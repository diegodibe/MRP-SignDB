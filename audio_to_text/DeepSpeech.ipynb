{
  "nbformat": 4,
  "nbformat_minor": 0,
  "metadata": {
    "colab": {
      "name": "DeepSpeech.ipynb",
      "provenance": []
    },
    "kernelspec": {
      "name": "python3",
      "display_name": "Python 3"
    }
  },
  "cells": [
    {
      "cell_type": "code",
      "metadata": {
        "id": "S36JJJ8Wu3bT"
      },
      "source": [
        "!pip3 install deepspeech"
      ],
      "execution_count": null,
      "outputs": []
    },
    {
      "cell_type": "code",
      "metadata": {
        "id": "6Ow0R768u8JB"
      },
      "source": [
        "!wget https://github.com/mozilla/DeepSpeech/releases/download/v0.8.2/deepspeech-0.8.2-models.scorer"
      ],
      "execution_count": null,
      "outputs": []
    },
    {
      "cell_type": "code",
      "metadata": {
        "id": "10rp1LZ0u8LY"
      },
      "source": [
        "!wget https://github.com/MozillaItalia/DeepSpeech-Italian-Model/releases/download/2020.08.07/transfer_model_tensorflow_it.tar.xz"
      ],
      "execution_count": null,
      "outputs": []
    },
    {
      "cell_type": "code",
      "metadata": {
        "id": "m2LFZ3xtu8N6"
      },
      "source": [
        "!tar xvf transfer_model_tensorflow_it.tar.xz"
      ],
      "execution_count": null,
      "outputs": []
    },
    {
      "cell_type": "code",
      "metadata": {
        "id": "ZRg79l1du8QR"
      },
      "source": [
        "!deepspeech --model output_graph.pbmm --scorer scorer --audio segment_name.wav >output_transcript.txt"
      ],
      "execution_count": null,
      "outputs": []
    }
  ]
}